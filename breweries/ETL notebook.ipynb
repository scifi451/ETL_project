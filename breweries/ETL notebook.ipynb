{
 "cells": [
  {
   "cell_type": "markdown",
   "metadata": {},
   "source": [
    "# ETL Project Breweries and Census Data\n",
    "### The purpose of this project is to practice extracting, transforming, and loading data from two sources. \n",
    "\n",
    "### The goal is to provide data for US breweries per state population.\n"
   ]
  },
  {
   "cell_type": "code",
   "execution_count": null,
   "metadata": {},
   "outputs": [],
   "source": [
    "# Dependencies\n",
    "import pandas as pd\n",
    "import requests\n",
    "import pymongo"
   ]
  },
  {
   "attachments": {},
   "cell_type": "markdown",
   "metadata": {},
   "source": [
    "# (E)xtraction\n",
    "### Sources used for this project:\n",
    "\n",
    "#### From Kaggle:\n",
    "* Breweries: https://www.kaggle.com/brkurzawa/us-breweries#breweries_us.csv\n",
    "\n",
    "#### From US Census Bureau:\n",
    "* Population: https://www.census.gov/newsroom/press-kits/2018/pop-estimates-national-state.html![image.png](attachment:image.png)"
   ]
  },
  {
   "cell_type": "code",
   "execution_count": null,
   "metadata": {},
   "outputs": [],
   "source": [
    "#read breweries csv into dataframe and display head.\n",
    "\n",
    "breweries_df = pd.read_csv(\"Resources/breweries_us.csv\")\n",
    "breweries_df.head()\n"
   ]
  },
  {
   "cell_type": "code",
   "execution_count": null,
   "metadata": {},
   "outputs": [],
   "source": [
    "#read census csv into dataframe and display head.\n",
    "census_df = pd.read_csv(\"Resources/nst-est2018-popchg2010_2018.csv\")\n",
    "census_df.head()"
   ]
  },
  {
   "cell_type": "markdown",
   "metadata": {},
   "source": [
    "# (T)ransformation"
   ]
  },
  {
   "cell_type": "markdown",
   "metadata": {},
   "source": [
    "### Transform breweries data"
   ]
  },
  {
   "cell_type": "code",
   "execution_count": null,
   "metadata": {},
   "outputs": [],
   "source": [
    "# explore column names\n",
    "breweries_df.columns"
   ]
  },
  {
   "cell_type": "code",
   "execution_count": null,
   "metadata": {},
   "outputs": [],
   "source": [
    "# select columns specific columns and rename for simplicity\n",
    " \n",
    "breweries_col = ['state',\n",
    "       'state_breweries']\n",
    "breweries = breweries_df[breweries_col].copy()\n",
    "breweries = breweries.rename(columns={'state_breweries': 'count'})\n",
    "breweries['state']=breweries['state'].str.lower()\n",
    "breweries['state']=breweries['state'].str.replace(r'-',' ')\n",
    "\n",
    "# remove duplicates\n",
    "breweries.drop_duplicates(inplace=True)\n",
    "breweries\n"
   ]
  },
  {
   "cell_type": "code",
   "execution_count": null,
   "metadata": {},
   "outputs": [],
   "source": [
    "# explore columns in census dataframe.\n",
    "census_df.columns"
   ]
  },
  {
   "cell_type": "code",
   "execution_count": null,
   "metadata": {},
   "outputs": [],
   "source": [
    "#Tranform and clean-up\n",
    "\n",
    "census_df.head(10)\n",
    "\n"
   ]
  },
  {
   "cell_type": "code",
   "execution_count": null,
   "metadata": {},
   "outputs": [],
   "source": [
    "# drop rows that are not states.\n",
    "census_df = census_df[census_df['STATE'] > 0]\n",
    "census_df"
   ]
  },
  {
   "cell_type": "code",
   "execution_count": null,
   "metadata": {},
   "outputs": [],
   "source": [
    "# We are only interested in state name and most recent population, i,e, 2018 population.\n",
    "# Rank data, change in population was not relevant to our projects.\n",
    "\n",
    "census_columns= ['NAME', 'POPESTIMATE2018']\n",
    "census = census_df[census_columns].copy()\n",
    "census = census.rename(columns={'NAME': 'state','POPESTIMATE2018':'pop_2018'})\n",
    "census['state'] = census['state'].str.lower()\n",
    "\n",
    "census = census.reset_index()\n",
    "del census['index']\n",
    "\n",
    "census\n"
   ]
  },
  {
   "cell_type": "code",
   "execution_count": null,
   "metadata": {},
   "outputs": [],
   "source": [
    "census.iloc[8,0] \n",
    "census.iloc[8,0] = 'washington dc'\n",
    "census"
   ]
  },
  {
   "cell_type": "code",
   "execution_count": null,
   "metadata": {},
   "outputs": [],
   "source": [
    "# Merge breweries and census data into a single dataframe.\n",
    "\n",
    "breweries_by_state = breweries.merge(census, left_on='state', right_on='state', how='outer')\n",
    "breweries_by_state.sort_values('state')"
   ]
  },
  {
   "cell_type": "code",
   "execution_count": null,
   "metadata": {},
   "outputs": [],
   "source": [
    "# replace NaN with zero\n",
    "breweries_by_state.iloc[51,1]\n",
    "breweries_by_state.iloc[51,1]=0\n",
    "breweries_by_state"
   ]
  },
  {
   "cell_type": "markdown",
   "metadata": {},
   "source": [
    "# (L)oad"
   ]
  },
  {
   "cell_type": "code",
   "execution_count": null,
   "metadata": {},
   "outputs": [],
   "source": []
  },
  {
   "cell_type": "code",
   "execution_count": null,
   "metadata": {},
   "outputs": [],
   "source": []
  },
  {
   "cell_type": "markdown",
   "metadata": {},
   "source": [
    "# Heatmap"
   ]
  },
  {
   "cell_type": "code",
   "execution_count": null,
   "metadata": {},
   "outputs": [],
   "source": []
  }
 ],
 "metadata": {
  "kernelspec": {
   "display_name": "Python 3",
   "language": "python",
   "name": "python3"
  },
  "language_info": {
   "codemirror_mode": {
    "name": "ipython",
    "version": 3
   },
   "file_extension": ".py",
   "mimetype": "text/x-python",
   "name": "python",
   "nbconvert_exporter": "python",
   "pygments_lexer": "ipython3",
   "version": "3.6.9"
  }
 },
 "nbformat": 4,
 "nbformat_minor": 2
}
